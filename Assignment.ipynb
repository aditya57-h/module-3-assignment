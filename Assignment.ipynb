{
  "nbformat": 4,
  "nbformat_minor": 0,
  "metadata": {
    "colab": {
      "provenance": []
    },
    "kernelspec": {
      "name": "python3",
      "display_name": "Python 3"
    },
    "language_info": {
      "name": "python"
    }
  },
  "cells": [
    {
      "cell_type": "markdown",
      "source": [
        "# Introduction to Web Development\n",
        "\n",
        "1. Explain the main components of client-server archirecture and thair fuctions.\n",
        "   - Their are five components in client server - architecture.\n",
        "   1. Client-\n",
        "\n",
        "   - Client is the softwere which users can interract with app or softwere,\n",
        "    it sends the request to the server and takes the respones.\n",
        "   2. Server-\n",
        "\n",
        "   - server can be any machine or a process running on machine whichh is capable to acceoting the request, process them amd send respones.\n",
        "   3. network-\n",
        "   \n",
        "   - it is the medium between client and the server, with networks computers can be connected with each others, communicate and send resourses.\n",
        "   4. database-\n",
        "   - it secures the data inside the server, and retrive them when the client sends the request.\n",
        "   5. protocals-\n",
        "   - This is the set of rules between the communication of client and server.\n",
        "   example- http, https.\n",
        "\n",
        "2. Discuss the verious career paths available after completing a web development course.\n",
        "\n",
        "   - there are many career paths after the web development caurse -\n",
        "   \n",
        "   1. frontend developer-\n",
        "   - frontend developer's work is to design the users interface using technologies like HTML, CSS and javascript\n",
        "   2. backend development-\n",
        "   - manages the server side logic like database management using the technologies like nodejs and python.\n",
        "   3. full stack developer-\n",
        "   - in this job we have to manage both sides frontend and the backend.\n",
        "   4. web designer-\n",
        "   - In thsi job we have to work on the aesthetics of webside.\n",
        "   \n",
        "\n",
        "3. Describe the role of a web brawser's tool in web development.\n",
        "\n",
        "   - Web Browser is an important tool in eb development which helps developers to test and debug websites and web applications. Here are some essential browser tools which are used in web development:\n",
        "\n",
        "  1. Developer Tools (DevTools) –\n",
        "  - Browsers like Chrome, Firefox, and Edge have built-in DevTools which allow to inspect and modify HTML, CSS, and JavaScript.\n",
        "\n",
        "  2. Console –\n",
        "  - Console is used to check JavaScript errors and logs, which makes the debugging process easy.\n",
        "\n",
        "  3. Network Tab –\n",
        "   - This tool helps to check the response time of all the resources being loaded on the website such as images, CSS files, and APIs.\n",
        "\n",
        "  4. Elements Tab –\n",
        "  -  It allows you to inspect and modify the HTML and CSS of a live webpage without changing the code.\n",
        "\n",
        "\n",
        "4. What are the advantage of using version control system like git in a web development project?\n",
        "\n",
        "  - version Control System like Git is super useful in web development. Here are some key advantages:\n",
        "\n",
        " 1. Tracks Changes –\n",
        " - Git keeps a history of all code changes, so you can easily go back to previous versions if needed.\n",
        " 2. Collaboration –\n",
        " - Multiple developers can work on the same project without overwriting each other's work.\n",
        " 3. Branching & Merging –\n",
        " - You can create separate branches for features or fixes and merge them later without affecting the main codebase.\n",
        " 4. Backup & Recovery –\n",
        " - Code is safely stored in repositories (like GitHub, GitLab), reducing the risk of losing important work.\n",
        " 5. Better Code Management –\n",
        " - Helps in organizing code efficiently and avoiding conflicts in a team environment.  \n",
        "\n",
        "\n",
        "5. compare and contrast a text editor and on IDE, highligting key feature and uses.\n",
        "\n",
        "   - Text editor is a simple tool for running codes and programming and IDE is a complete softwere for development.\n",
        "   \n",
        "   - Text editors provides the basic syntax highlighting , but IDE provides debugging code completion,and built in compilers.\n",
        "\n",
        "   - Text editors are lightweight and fast, whereas IDEs are heavier but offer more functionality.\n",
        "\n",
        "   - Text editors are best for quick edits, while IDEs are ideal for large, complex projects."
      ],
      "metadata": {
        "id": "MAtp8_hvVpJM"
      }
    },
    {
      "cell_type": "code",
      "execution_count": null,
      "metadata": {
        "id": "Xkm4XrcoVLpf"
      },
      "outputs": [],
      "source": []
    }
  ]
}